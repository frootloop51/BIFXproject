{
 "cells": [
  {
   "cell_type": "code",
   "execution_count": 18,
   "id": "b56f8e32-1fff-4dd8-af84-8e10baa323f8",
   "metadata": {},
   "outputs": [
    {
     "name": "stdout",
     "output_type": "stream",
     "text": [
      "\n",
      "  There is a binary version available but the source version is later:\n",
      "     binary source needs_compilation\n",
      "MASS 7.3-54 7.3-55              TRUE\n",
      "\n",
      "  Binaries will be installed\n"
     ]
    },
    {
     "name": "stderr",
     "output_type": "stream",
     "text": [
      "Warning message:\n",
      "\"package 'MASS' is in use and will not be installed\""
     ]
    },
    {
     "name": "stdout",
     "output_type": "stream",
     "text": [
      "\n",
      "  There is a binary version available but the source version is later:\n",
      "        binary source needs_compilation\n",
      "ggplot2  3.3.3  3.3.5             FALSE\n",
      "\n"
     ]
    },
    {
     "name": "stderr",
     "output_type": "stream",
     "text": [
      "installing the source package 'ggplot2'\n",
      "\n"
     ]
    }
   ],
   "source": [
    "install.packages(\"MASS\")\n",
    "library(\"MASS\")\n",
    "install.packages(\"ggplot2\")\n",
    "library(\"ggplot2\")"
   ]
  },
  {
   "cell_type": "code",
   "execution_count": 20,
   "id": "8bab2d1b",
   "metadata": {},
   "outputs": [
    {
     "data": {
      "text/html": [
       "'R version 3.6.1 (2019-07-05)'"
      ],
      "text/latex": [
       "'R version 3.6.1 (2019-07-05)'"
      ],
      "text/markdown": [
       "'R version 3.6.1 (2019-07-05)'"
      ],
      "text/plain": [
       "[1] \"R version 3.6.1 (2019-07-05)\""
      ]
     },
     "metadata": {},
     "output_type": "display_data"
    }
   ],
   "source": [
    "R.version.string"
   ]
  },
  {
   "cell_type": "code",
   "execution_count": 12,
   "id": "3c4c2bd6-900b-473b-a3b7-27bbee175b14",
   "metadata": {},
   "outputs": [
    {
     "data": {
      "text/html": [
       "<table>\n",
       "<thead><tr><th scope=col>Sex</th><th scope=col>Bwt</th><th scope=col>Hwt</th></tr></thead>\n",
       "<tbody>\n",
       "\t<tr><td>F   </td><td>2.0 </td><td> 7.0</td></tr>\n",
       "\t<tr><td>F   </td><td>2.0 </td><td> 7.4</td></tr>\n",
       "\t<tr><td>F   </td><td>2.0 </td><td> 9.5</td></tr>\n",
       "\t<tr><td>F   </td><td>2.1 </td><td> 7.2</td></tr>\n",
       "\t<tr><td>F   </td><td>2.1 </td><td> 7.3</td></tr>\n",
       "\t<tr><td>F   </td><td>2.1 </td><td> 7.6</td></tr>\n",
       "\t<tr><td>F   </td><td>2.1 </td><td> 8.1</td></tr>\n",
       "\t<tr><td>F   </td><td>2.1 </td><td> 8.2</td></tr>\n",
       "\t<tr><td>F   </td><td>2.1 </td><td> 8.3</td></tr>\n",
       "\t<tr><td>F   </td><td>2.1 </td><td> 8.5</td></tr>\n",
       "\t<tr><td>F   </td><td>2.1 </td><td> 8.7</td></tr>\n",
       "\t<tr><td>F   </td><td>2.1 </td><td> 9.8</td></tr>\n",
       "\t<tr><td>F   </td><td>2.2 </td><td> 7.1</td></tr>\n",
       "\t<tr><td>F   </td><td>2.2 </td><td> 8.7</td></tr>\n",
       "\t<tr><td>F   </td><td>2.2 </td><td> 9.1</td></tr>\n",
       "\t<tr><td>F   </td><td>2.2 </td><td> 9.7</td></tr>\n",
       "\t<tr><td>F   </td><td>2.2 </td><td>10.9</td></tr>\n",
       "\t<tr><td>F   </td><td>2.2 </td><td>11.0</td></tr>\n",
       "\t<tr><td>F   </td><td>2.3 </td><td> 7.3</td></tr>\n",
       "\t<tr><td>F   </td><td>2.3 </td><td> 7.9</td></tr>\n",
       "\t<tr><td>F   </td><td>2.3 </td><td> 8.4</td></tr>\n",
       "\t<tr><td>F   </td><td>2.3 </td><td> 9.0</td></tr>\n",
       "\t<tr><td>F   </td><td>2.3 </td><td> 9.0</td></tr>\n",
       "\t<tr><td>F   </td><td>2.3 </td><td> 9.5</td></tr>\n",
       "\t<tr><td>F   </td><td>2.3 </td><td> 9.6</td></tr>\n",
       "\t<tr><td>F   </td><td>2.3 </td><td> 9.7</td></tr>\n",
       "\t<tr><td>F   </td><td>2.3 </td><td>10.1</td></tr>\n",
       "\t<tr><td>F   </td><td>2.3 </td><td>10.1</td></tr>\n",
       "\t<tr><td>F   </td><td>2.3 </td><td>10.6</td></tr>\n",
       "\t<tr><td>F   </td><td>2.3 </td><td>11.2</td></tr>\n",
       "\t<tr><td>...</td><td>...</td><td>...</td></tr>\n",
       "\t<tr><td>M   </td><td>3.2 </td><td>11.6</td></tr>\n",
       "\t<tr><td>M   </td><td>3.2 </td><td>11.9</td></tr>\n",
       "\t<tr><td>M   </td><td>3.2 </td><td>12.3</td></tr>\n",
       "\t<tr><td>M   </td><td>3.2 </td><td>13.0</td></tr>\n",
       "\t<tr><td>M   </td><td>3.2 </td><td>13.5</td></tr>\n",
       "\t<tr><td>M   </td><td>3.2 </td><td>13.6</td></tr>\n",
       "\t<tr><td>M   </td><td>3.3 </td><td>11.5</td></tr>\n",
       "\t<tr><td>M   </td><td>3.3 </td><td>12.0</td></tr>\n",
       "\t<tr><td>M   </td><td>3.3 </td><td>14.1</td></tr>\n",
       "\t<tr><td>M   </td><td>3.3 </td><td>14.9</td></tr>\n",
       "\t<tr><td>M   </td><td>3.3 </td><td>15.4</td></tr>\n",
       "\t<tr><td>M   </td><td>3.4 </td><td>11.2</td></tr>\n",
       "\t<tr><td>M   </td><td>3.4 </td><td>12.2</td></tr>\n",
       "\t<tr><td>M   </td><td>3.4 </td><td>12.4</td></tr>\n",
       "\t<tr><td>M   </td><td>3.4 </td><td>12.8</td></tr>\n",
       "\t<tr><td>M   </td><td>3.4 </td><td>14.4</td></tr>\n",
       "\t<tr><td>M   </td><td>3.5 </td><td>11.7</td></tr>\n",
       "\t<tr><td>M   </td><td>3.5 </td><td>12.9</td></tr>\n",
       "\t<tr><td>M   </td><td>3.5 </td><td>15.6</td></tr>\n",
       "\t<tr><td>M   </td><td>3.5 </td><td>15.7</td></tr>\n",
       "\t<tr><td>M   </td><td>3.5 </td><td>17.2</td></tr>\n",
       "\t<tr><td>M   </td><td>3.6 </td><td>11.8</td></tr>\n",
       "\t<tr><td>M   </td><td>3.6 </td><td>13.3</td></tr>\n",
       "\t<tr><td>M   </td><td>3.6 </td><td>14.8</td></tr>\n",
       "\t<tr><td>M   </td><td>3.6 </td><td>15.0</td></tr>\n",
       "\t<tr><td>M   </td><td>3.7 </td><td>11.0</td></tr>\n",
       "\t<tr><td>M   </td><td>3.8 </td><td>14.8</td></tr>\n",
       "\t<tr><td>M   </td><td>3.8 </td><td>16.8</td></tr>\n",
       "\t<tr><td>M   </td><td>3.9 </td><td>14.4</td></tr>\n",
       "\t<tr><td>M   </td><td>3.9 </td><td>20.5</td></tr>\n",
       "</tbody>\n",
       "</table>\n"
      ],
      "text/latex": [
       "\\begin{tabular}{r|lll}\n",
       " Sex & Bwt & Hwt\\\\\n",
       "\\hline\n",
       "\t F    & 2.0  &  7.0\\\\\n",
       "\t F    & 2.0  &  7.4\\\\\n",
       "\t F    & 2.0  &  9.5\\\\\n",
       "\t F    & 2.1  &  7.2\\\\\n",
       "\t F    & 2.1  &  7.3\\\\\n",
       "\t F    & 2.1  &  7.6\\\\\n",
       "\t F    & 2.1  &  8.1\\\\\n",
       "\t F    & 2.1  &  8.2\\\\\n",
       "\t F    & 2.1  &  8.3\\\\\n",
       "\t F    & 2.1  &  8.5\\\\\n",
       "\t F    & 2.1  &  8.7\\\\\n",
       "\t F    & 2.1  &  9.8\\\\\n",
       "\t F    & 2.2  &  7.1\\\\\n",
       "\t F    & 2.2  &  8.7\\\\\n",
       "\t F    & 2.2  &  9.1\\\\\n",
       "\t F    & 2.2  &  9.7\\\\\n",
       "\t F    & 2.2  & 10.9\\\\\n",
       "\t F    & 2.2  & 11.0\\\\\n",
       "\t F    & 2.3  &  7.3\\\\\n",
       "\t F    & 2.3  &  7.9\\\\\n",
       "\t F    & 2.3  &  8.4\\\\\n",
       "\t F    & 2.3  &  9.0\\\\\n",
       "\t F    & 2.3  &  9.0\\\\\n",
       "\t F    & 2.3  &  9.5\\\\\n",
       "\t F    & 2.3  &  9.6\\\\\n",
       "\t F    & 2.3  &  9.7\\\\\n",
       "\t F    & 2.3  & 10.1\\\\\n",
       "\t F    & 2.3  & 10.1\\\\\n",
       "\t F    & 2.3  & 10.6\\\\\n",
       "\t F    & 2.3  & 11.2\\\\\n",
       "\t ... & ... & ...\\\\\n",
       "\t M    & 3.2  & 11.6\\\\\n",
       "\t M    & 3.2  & 11.9\\\\\n",
       "\t M    & 3.2  & 12.3\\\\\n",
       "\t M    & 3.2  & 13.0\\\\\n",
       "\t M    & 3.2  & 13.5\\\\\n",
       "\t M    & 3.2  & 13.6\\\\\n",
       "\t M    & 3.3  & 11.5\\\\\n",
       "\t M    & 3.3  & 12.0\\\\\n",
       "\t M    & 3.3  & 14.1\\\\\n",
       "\t M    & 3.3  & 14.9\\\\\n",
       "\t M    & 3.3  & 15.4\\\\\n",
       "\t M    & 3.4  & 11.2\\\\\n",
       "\t M    & 3.4  & 12.2\\\\\n",
       "\t M    & 3.4  & 12.4\\\\\n",
       "\t M    & 3.4  & 12.8\\\\\n",
       "\t M    & 3.4  & 14.4\\\\\n",
       "\t M    & 3.5  & 11.7\\\\\n",
       "\t M    & 3.5  & 12.9\\\\\n",
       "\t M    & 3.5  & 15.6\\\\\n",
       "\t M    & 3.5  & 15.7\\\\\n",
       "\t M    & 3.5  & 17.2\\\\\n",
       "\t M    & 3.6  & 11.8\\\\\n",
       "\t M    & 3.6  & 13.3\\\\\n",
       "\t M    & 3.6  & 14.8\\\\\n",
       "\t M    & 3.6  & 15.0\\\\\n",
       "\t M    & 3.7  & 11.0\\\\\n",
       "\t M    & 3.8  & 14.8\\\\\n",
       "\t M    & 3.8  & 16.8\\\\\n",
       "\t M    & 3.9  & 14.4\\\\\n",
       "\t M    & 3.9  & 20.5\\\\\n",
       "\\end{tabular}\n"
      ],
      "text/markdown": [
       "\n",
       "| Sex | Bwt | Hwt |\n",
       "|---|---|---|\n",
       "| F    | 2.0  |  7.0 |\n",
       "| F    | 2.0  |  7.4 |\n",
       "| F    | 2.0  |  9.5 |\n",
       "| F    | 2.1  |  7.2 |\n",
       "| F    | 2.1  |  7.3 |\n",
       "| F    | 2.1  |  7.6 |\n",
       "| F    | 2.1  |  8.1 |\n",
       "| F    | 2.1  |  8.2 |\n",
       "| F    | 2.1  |  8.3 |\n",
       "| F    | 2.1  |  8.5 |\n",
       "| F    | 2.1  |  8.7 |\n",
       "| F    | 2.1  |  9.8 |\n",
       "| F    | 2.2  |  7.1 |\n",
       "| F    | 2.2  |  8.7 |\n",
       "| F    | 2.2  |  9.1 |\n",
       "| F    | 2.2  |  9.7 |\n",
       "| F    | 2.2  | 10.9 |\n",
       "| F    | 2.2  | 11.0 |\n",
       "| F    | 2.3  |  7.3 |\n",
       "| F    | 2.3  |  7.9 |\n",
       "| F    | 2.3  |  8.4 |\n",
       "| F    | 2.3  |  9.0 |\n",
       "| F    | 2.3  |  9.0 |\n",
       "| F    | 2.3  |  9.5 |\n",
       "| F    | 2.3  |  9.6 |\n",
       "| F    | 2.3  |  9.7 |\n",
       "| F    | 2.3  | 10.1 |\n",
       "| F    | 2.3  | 10.1 |\n",
       "| F    | 2.3  | 10.6 |\n",
       "| F    | 2.3  | 11.2 |\n",
       "| ... | ... | ... |\n",
       "| M    | 3.2  | 11.6 |\n",
       "| M    | 3.2  | 11.9 |\n",
       "| M    | 3.2  | 12.3 |\n",
       "| M    | 3.2  | 13.0 |\n",
       "| M    | 3.2  | 13.5 |\n",
       "| M    | 3.2  | 13.6 |\n",
       "| M    | 3.3  | 11.5 |\n",
       "| M    | 3.3  | 12.0 |\n",
       "| M    | 3.3  | 14.1 |\n",
       "| M    | 3.3  | 14.9 |\n",
       "| M    | 3.3  | 15.4 |\n",
       "| M    | 3.4  | 11.2 |\n",
       "| M    | 3.4  | 12.2 |\n",
       "| M    | 3.4  | 12.4 |\n",
       "| M    | 3.4  | 12.8 |\n",
       "| M    | 3.4  | 14.4 |\n",
       "| M    | 3.5  | 11.7 |\n",
       "| M    | 3.5  | 12.9 |\n",
       "| M    | 3.5  | 15.6 |\n",
       "| M    | 3.5  | 15.7 |\n",
       "| M    | 3.5  | 17.2 |\n",
       "| M    | 3.6  | 11.8 |\n",
       "| M    | 3.6  | 13.3 |\n",
       "| M    | 3.6  | 14.8 |\n",
       "| M    | 3.6  | 15.0 |\n",
       "| M    | 3.7  | 11.0 |\n",
       "| M    | 3.8  | 14.8 |\n",
       "| M    | 3.8  | 16.8 |\n",
       "| M    | 3.9  | 14.4 |\n",
       "| M    | 3.9  | 20.5 |\n",
       "\n"
      ],
      "text/plain": [
       "    Sex Bwt Hwt \n",
       "1   F   2.0  7.0\n",
       "2   F   2.0  7.4\n",
       "3   F   2.0  9.5\n",
       "4   F   2.1  7.2\n",
       "5   F   2.1  7.3\n",
       "6   F   2.1  7.6\n",
       "7   F   2.1  8.1\n",
       "8   F   2.1  8.2\n",
       "9   F   2.1  8.3\n",
       "10  F   2.1  8.5\n",
       "11  F   2.1  8.7\n",
       "12  F   2.1  9.8\n",
       "13  F   2.2  7.1\n",
       "14  F   2.2  8.7\n",
       "15  F   2.2  9.1\n",
       "16  F   2.2  9.7\n",
       "17  F   2.2 10.9\n",
       "18  F   2.2 11.0\n",
       "19  F   2.3  7.3\n",
       "20  F   2.3  7.9\n",
       "21  F   2.3  8.4\n",
       "22  F   2.3  9.0\n",
       "23  F   2.3  9.0\n",
       "24  F   2.3  9.5\n",
       "25  F   2.3  9.6\n",
       "26  F   2.3  9.7\n",
       "27  F   2.3 10.1\n",
       "28  F   2.3 10.1\n",
       "29  F   2.3 10.6\n",
       "30  F   2.3 11.2\n",
       "... ... ... ... \n",
       "115 M   3.2 11.6\n",
       "116 M   3.2 11.9\n",
       "117 M   3.2 12.3\n",
       "118 M   3.2 13.0\n",
       "119 M   3.2 13.5\n",
       "120 M   3.2 13.6\n",
       "121 M   3.3 11.5\n",
       "122 M   3.3 12.0\n",
       "123 M   3.3 14.1\n",
       "124 M   3.3 14.9\n",
       "125 M   3.3 15.4\n",
       "126 M   3.4 11.2\n",
       "127 M   3.4 12.2\n",
       "128 M   3.4 12.4\n",
       "129 M   3.4 12.8\n",
       "130 M   3.4 14.4\n",
       "131 M   3.5 11.7\n",
       "132 M   3.5 12.9\n",
       "133 M   3.5 15.6\n",
       "134 M   3.5 15.7\n",
       "135 M   3.5 17.2\n",
       "136 M   3.6 11.8\n",
       "137 M   3.6 13.3\n",
       "138 M   3.6 14.8\n",
       "139 M   3.6 15.0\n",
       "140 M   3.7 11.0\n",
       "141 M   3.8 14.8\n",
       "142 M   3.8 16.8\n",
       "143 M   3.9 14.4\n",
       "144 M   3.9 20.5"
      ]
     },
     "metadata": {},
     "output_type": "display_data"
    }
   ],
   "source": [
    "workingCats <- cats\n",
    "workingCats\n",
    "#cats\n",
    "#table(cats$Female)"
   ]
  },
  {
   "cell_type": "code",
   "execution_count": 15,
   "id": "c805e7be-0123-4358-a03b-bb299b6abc8f",
   "metadata": {},
   "outputs": [
    {
     "data": {
      "image/png": "[encoded data removed]",
      "text/plain": [
       "plot without title"
      ]
     },
     "metadata": {},
     "output_type": "display_data"
    }
   ],
   "source": [
    "catPlot <- ggplot(data =workingCats, aes(x= Bwt, y=Hwt))+\n",
    "geom_point(aes(shape = Sex, color =Sex)) + labs(x=\"Body Weight (kg)\",y=\"Heart Weight (g)\",\n",
    "               title=\"Body Weight vs. Heart Weight in Cats By Sex\")\n",
    "\n",
    "catPlot\n",
    "\n",
    "#catPlotBase <- plot(workingCats$Bwt, workingCats$Hwt, \n",
    "#     xlab = \"Body Weight\",\n",
    "#     ylab = \"Heart Weight\",\n",
    "#     main = \"Body Weight vs. Heart Weight in Cats\",\n",
    "#     pch = 20,\n",
    "#     col = workingCats$Sex)"
   ]
  },
  {
   "cell_type": "code",
   "execution_count": 1,
   "id": "06585ef3",
   "metadata": {},
   "outputs": [
    {
     "ename": "ERROR",
     "evalue": "Error in is.data.frame(data): object 'workingCats' not found\n",
     "output_type": "error",
     "traceback": [
      "Error in is.data.frame(data): object 'workingCats' not found\nTraceback:\n",
      "1. lm(Hwt ~ Bwt + Female, workingCats)",
      "2. eval(mf, parent.frame())",
      "3. eval(mf, parent.frame())",
      "4. stats::model.frame(formula = Hwt ~ Bwt + Female, data = workingCats, \n .     drop.unused.levels = TRUE)",
      "5. model.frame.default(formula = Hwt ~ Bwt + Female, data = workingCats, \n .     drop.unused.levels = TRUE)",
      "6. is.data.frame(data)"
     ]
    }
   ],
   "source": [
    "cat1<-lm(Hwt ~ Bwt + Female, workingCats)\n",
    "cat2<-lm(Hwt ~ Bwt + Female + Female:Bwt, workingCats)\n",
    "summary(cat1)\n",
    "summary(cat2)\n",
    "pred1 <-predict(cat1)\n",
    "pred2 <- predict(cat2)\n"
   ]
  },
  {
   "cell_type": "markdown",
   "id": "0c5378b0",
   "metadata": {},
   "source": [
    "The linear equation for the above fitted model is: \n",
    "\n",
    "Hwt= -1.18 + 4.30×bwt+4.1654×Female-1.68×bwtxFemale.\n",
    "\n",
    "In the above fitted model, all of the predictor variables are signficant. Bwt, Sex (denoted by the binary variable Female), and the interaction of Bwt and Female. Initially I built a model that only looked at the main effects (Bwt and Female), and this model only showed that Bwt was a significant predictor of Hwt. This seems unlikely based on the scatterplot which shows that males generally have higher body weights and heart rates. So I built a model that included both main effects and the interaction of the main effects. This showed that while Bwt is the most signficant predictor of heart weight, sex (based on Female binary variable) and the interaction of Bwt and sex are both signficant predictors of heart weight.\n",
    "\n",
    "The coefficients show that for every unit increase in Hwt Bwt would increase by 4.3 grams. Analyzing coefficients for the Female variable is difficult because it is binary and not a continuous variable. Interestingly,the interaction of Bwt and Female has a negative impact on body weight, accounting for a -1.68g decrease in Hwt.\n",
    "\n",
    "The coefficient of determination (R-squared) is 0.6493, meaning this model accounts for about 65% of behavior in Hwt. This isn't a particularly high R-squared, but we can only work with the data we are given. If the researchers included other variables that may contribute to heart weight (ie. subcutaneous fat measurements) we may have more explanatory measurements to improve our model performance. We also have a large F-statistic (89.24) and a large sample size (about 150 cats) so it is safe to say that there is a relationship between our predictor variables (Bwt, Female, Bwt:Female) and our response variable (Hwt).\n",
    "\n"
   ]
  },
  {
   "cell_type": "code",
   "execution_count": 73,
   "id": "779506e9",
   "metadata": {},
   "outputs": [
    {
     "data": {
      "text/html": [
       "<table>\n",
       "<thead><tr><th scope=col>Bwt</th><th scope=col>Female</th></tr></thead>\n",
       "<tbody>\n",
       "\t<tr><td>3.4</td><td>1  </td></tr>\n",
       "</tbody>\n",
       "</table>\n"
      ],
      "text/latex": [
       "\\begin{tabular}{r|ll}\n",
       " Bwt & Female\\\\\n",
       "\\hline\n",
       "\t 3.4 & 1  \\\\\n",
       "\\end{tabular}\n"
      ],
      "text/markdown": [
       "\n",
       "| Bwt | Female |\n",
       "|---|---|\n",
       "| 3.4 | 1   |\n",
       "\n"
      ],
      "text/plain": [
       "  Bwt Female\n",
       "1 3.4 1     "
      ]
     },
     "metadata": {},
     "output_type": "display_data"
    },
    {
     "data": {
      "text/html": [
       "<strong>1:</strong> 11.9451201478743"
      ],
      "text/latex": [
       "\\textbf{1:} 11.9451201478743"
      ],
      "text/markdown": [
       "**1:** 11.9451201478743"
      ],
      "text/plain": [
       "       1 \n",
       "11.94512 "
      ]
     },
     "metadata": {},
     "output_type": "display_data"
    }
   ],
   "source": [
    "cat3 <- lm(Hwt ~ Bwt + Female + Female:Bwt, workingCats)\n",
    "Bwt <- c(3.4)\n",
    "Female <- c(1)\n",
    "SigmaWeight <- data.frame(Bwt,Female)\n",
    "SigmaWeight\n",
    "\n",
    "#using the fitted model to predict the value for Sigma's weight\n",
    "predict(cat3, newdata = SigmaWeight)\n"
   ]
  },
  {
   "cell_type": "code",
   "execution_count": 104,
   "id": "af758287",
   "metadata": {},
   "outputs": [
    {
     "ename": "ERROR",
     "evalue": "Error: `mapping` must be created by `aes()`\n",
     "output_type": "error",
     "traceback": [
      "Error: `mapping` must be created by `aes()`\nTraceback:\n",
      "1. geom_line(malePred, color = \"red\")",
      "2. layer(data = data, mapping = mapping, stat = stat, geom = GeomLine, \n .     position = position, show.legend = show.legend, inherit.aes = inherit.aes, \n .     params = list(na.rm = na.rm, orientation = orientation, ...))",
      "3. validate_mapping(mapping)",
      "4. abort(msg)",
      "5. signal_abort(cnd)"
     ]
    }
   ],
   "source": [
    "maleCat <- subset(workingCats, Female == 0,\n",
    "select=c(Bwt, Female))\n",
    "\n",
    "femaleCat <- subset(workingCats, Female == 1,\n",
    "select=c(Bwt, Female))\n",
    "\n",
    "cat3 <- lm(Hwt ~ Bwt + Female + Female:Bwt, workingCats)\n",
    "\n",
    "\n",
    "#using the fitted model to predict the value for Sigma's weight\n",
    "malePred<- predict(cat3, newdata = maleCat)\n",
    "#plot(malePred)\n",
    "femalePred <- predict(cat3, newdata = femaleCat)\n",
    "#plot(femalePred)\n",
    "\n",
    "catPlot <- ggplot(data =workingCats, aes(x= Bwt, y=Hwt))+\n",
    "geom_point(aes(shape = Sex, color =Sex)) +     geom_line(malePred, color=\"red\") + \n",
    "    geom_line(femalePred, color=\"blue\") +labs(x=\"Body Weight (kg)\",y=\"Heart Weight (g)\",\n",
    "               title=\"Body Weight vs. Heart Weight in Cats By Sex\")\n",
    "\n",
    "\n"
   ]
  },
  {
   "cell_type": "code",
   "execution_count": 108,
   "id": "e5ac8424-5c31-4cba-b3be-f28c394918f9",
   "metadata": {},
   "outputs": [
    {
     "data": {
      "text/html": [
       "<table>\n",
       "<thead><tr><th scope=col>Group.1</th><th scope=col>Group.2</th><th scope=col>x</th></tr></thead>\n",
       "<tbody>\n",
       "\t<tr><td>Driver &amp; Passenger</td><td>No                    </td><td>197.5000              </td></tr>\n",
       "\t<tr><td>Driver only       </td><td>No                </td><td>197.8750          </td></tr>\n",
       "\t<tr><td>None              </td><td>No                </td><td>191.3750          </td></tr>\n",
       "\t<tr><td>Driver &amp; Passenger</td><td>Yes                   </td><td>189.0000              </td></tr>\n",
       "\t<tr><td>Driver only       </td><td>Yes               </td><td>178.0370          </td></tr>\n",
       "\t<tr><td>None              </td><td>Yes               </td><td>170.8462          </td></tr>\n",
       "</tbody>\n",
       "</table>\n"
      ],
      "text/latex": [
       "\\begin{tabular}{r|lll}\n",
       " Group.1 & Group.2 & x\\\\\n",
       "\\hline\n",
       "\t Driver \\& Passenger & No                   & 197.5000            \\\\\n",
       "\t Driver only        & No                 & 197.8750          \\\\\n",
       "\t None               & No                 & 191.3750          \\\\\n",
       "\t Driver \\& Passenger & Yes                  & 189.0000            \\\\\n",
       "\t Driver only        & Yes                & 178.0370          \\\\\n",
       "\t None               & Yes                & 170.8462          \\\\\n",
       "\\end{tabular}\n"
      ],
      "text/markdown": [
       "\n",
       "| Group.1 | Group.2 | x |\n",
       "|---|---|---|\n",
       "| Driver & Passenger | No                 | 197.5000           |\n",
       "| Driver only        | No                 | 197.8750           |\n",
       "| None               | No                 | 191.3750           |\n",
       "| Driver & Passenger | Yes                | 189.0000           |\n",
       "| Driver only        | Yes                | 178.0370           |\n",
       "| None               | Yes                | 170.8462           |\n",
       "\n"
      ],
      "text/plain": [
       "  Group.1            Group.2 x       \n",
       "1 Driver & Passenger No      197.5000\n",
       "2 Driver only        No      197.8750\n",
       "3 None               No      191.3750\n",
       "4 Driver & Passenger Yes     189.0000\n",
       "5 Driver only        Yes     178.0370\n",
       "6 None               Yes     170.8462"
      ]
     },
     "metadata": {},
     "output_type": "display_data"
    }
   ],
   "source": [
    "library(MASS)\n",
    "cars1 <-Cars93\n",
    "aggregate(cars1$Length, by=list(cars1$AirBags, cars1$Man.trans.avail), FUN = mean, na.action = TRUE)\n"
   ]
  },
  {
   "cell_type": "code",
   "execution_count": 42,
   "id": "34df99ac-7d2d-499b-8e41-ff01b044f603",
   "metadata": {},
   "outputs": [
    {
     "data": {
      "text/plain": [
       "\n",
       "Call:\n",
       "lm(formula = Length ~ Man.trans.avail * AirBags, data = cars1)\n",
       "\n",
       "Residuals:\n",
       "    Min      1Q  Median      3Q     Max \n",
       "-29.846  -5.875   1.963   6.154  24.154 \n",
       "\n",
       "Coefficients:\n",
       "                                      Estimate Std. Error t value Pr(>|t|)    \n",
       "(Intercept)                            197.500      3.605  54.789   <2e-16 ***\n",
       "Man.trans.availYes                      -8.500      5.098  -1.667   0.0990 .  \n",
       "AirBagsDriver only                       0.375      4.415   0.085   0.9325    \n",
       "AirBagsNone                             -6.125      5.098  -1.201   0.2328    \n",
       "Man.trans.availYes:AirBagsDriver only  -11.338      6.028  -1.881   0.0633 .  \n",
       "Man.trans.availYes:AirBagsNone         -12.029      6.556  -1.835   0.0700 .  \n",
       "---\n",
       "Signif. codes:  0 '***' 0.001 '**' 0.01 '*' 0.05 '.' 0.1 ' ' 1\n",
       "\n",
       "Residual standard error: 10.2 on 87 degrees of freedom\n",
       "Multiple R-squared:  0.539,\tAdjusted R-squared:  0.5125 \n",
       "F-statistic: 20.34 on 5 and 87 DF,  p-value: 2.159e-13\n"
      ]
     },
     "metadata": {},
     "output_type": "display_data"
    }
   ],
   "source": [
    "summary(lm(Length ~ Man.trans.avail*AirBags, cars1))\n"
   ]
  },
  {
   "cell_type": "code",
   "execution_count": 109,
   "id": "4b740216-41b5-4d51-a06d-a5f8bbf9e885",
   "metadata": {},
   "outputs": [
    {
     "data": {
      "text/plain": [
       "                    \n",
       "                     No Yes\n",
       "  Driver & Passenger  8   8\n",
       "  Driver only        16  27\n",
       "  None                8  26"
      ]
     },
     "metadata": {},
     "output_type": "display_data"
    },
    {
     "data": {
      "image/png": "[encoded data removed]",
      "text/plain": [
       "plot without title"
      ]
     },
     "metadata": {},
     "output_type": "display_data"
    }
   ],
   "source": [
    "interaction.plot(cars1$AirBags,cars1$Man.trans.avail, cars1$Length, fun = mean,\n",
    "                 type = c(\"l\", \"p\", \"b\", \"o\", \"c\"), legend = TRUE)\n",
    "\n",
    "table(cars1$AirBags, cars1$Man.trans.avail)"
   ]
  },
  {
   "cell_type": "markdown",
   "id": "afb48640-60df-49a4-9c70-a8832ce68437",
   "metadata": {},
   "source": [
    "Based on the above interaction plot, there is little to no intereaction between the position of the airbags in the car and whether a manual transmission is avaiable on the length of the vehicle. While these lines aren't completely parallel, they do not overlap or intersect, so whatever interaction may be present is very weak. It's worth pointing out that the data for this two way ANOVA has unequal sample sizes which could impact the robustness of these results."
   ]
  },
  {
   "cell_type": "code",
   "execution_count": 106,
   "id": "29bc0906-1a9b-4da2-9a0c-604ac30a6de6",
   "metadata": {},
   "outputs": [
    {
     "data": {
      "text/plain": [
       "                        Df Sum Sq Mean Sq F value   Pr(>F)    \n",
       "AirBags                  2   3752    1876  18.048 2.78e-07 ***\n",
       "Man.trans.avail          1   6388    6388  61.447 1.05e-11 ***\n",
       "AirBags:Man.trans.avail  2    433     217   2.084    0.131    \n",
       "Residuals               87   9044     104                     \n",
       "---\n",
       "Signif. codes:  0 '***' 0.001 '**' 0.01 '*' 0.05 '.' 0.1 ' ' 1"
      ]
     },
     "metadata": {},
     "output_type": "display_data"
    },
    {
     "data": {
      "text/html": [
       "<table>\n",
       "<thead><tr><th></th><th scope=col>2.5 %</th><th scope=col>97.5 %</th></tr></thead>\n",
       "<tbody>\n",
       "\t<tr><th scope=row>(Intercept)</th><td>190.335172 </td><td>204.6648284</td></tr>\n",
       "\t<tr><th scope=row>AirBagsDriver only</th><td> -8.400087 </td><td>  9.1500869</td></tr>\n",
       "\t<tr><th scope=row>AirBagsNone</th><td>-16.257598 </td><td>  4.0075976</td></tr>\n",
       "\t<tr><th scope=row>Man.trans.availYes</th><td>-18.632598 </td><td>  1.6325976</td></tr>\n",
       "\t<tr><th scope=row>AirBagsDriver only:Man.trans.availYes</th><td>-23.319082 </td><td>  0.6431563</td></tr>\n",
       "\t<tr><th scope=row>AirBagsNone:Man.trans.availYes</th><td>-25.059564 </td><td>  1.0018719</td></tr>\n",
       "</tbody>\n",
       "</table>\n"
      ],
      "text/latex": [
       "\\begin{tabular}{r|ll}\n",
       "  & 2.5 \\% & 97.5 \\%\\\\\n",
       "\\hline\n",
       "\t(Intercept) & 190.335172  & 204.6648284\\\\\n",
       "\tAirBagsDriver only &  -8.400087  &   9.1500869\\\\\n",
       "\tAirBagsNone & -16.257598  &   4.0075976\\\\\n",
       "\tMan.trans.availYes & -18.632598  &   1.6325976\\\\\n",
       "\tAirBagsDriver only:Man.trans.availYes & -23.319082  &   0.6431563\\\\\n",
       "\tAirBagsNone:Man.trans.availYes & -25.059564  &   1.0018719\\\\\n",
       "\\end{tabular}\n"
      ],
      "text/markdown": [
       "\n",
       "| <!--/--> | 2.5 % | 97.5 % |\n",
       "|---|---|---|\n",
       "| (Intercept) | 190.335172  | 204.6648284 |\n",
       "| AirBagsDriver only |  -8.400087  |   9.1500869 |\n",
       "| AirBagsNone | -16.257598  |   4.0075976 |\n",
       "| Man.trans.availYes | -18.632598  |   1.6325976 |\n",
       "| AirBagsDriver only:Man.trans.availYes | -23.319082  |   0.6431563 |\n",
       "| AirBagsNone:Man.trans.availYes | -25.059564  |   1.0018719 |\n",
       "\n"
      ],
      "text/plain": [
       "                                      2.5 %      97.5 %     \n",
       "(Intercept)                           190.335172 204.6648284\n",
       "AirBagsDriver only                     -8.400087   9.1500869\n",
       "AirBagsNone                           -16.257598   4.0075976\n",
       "Man.trans.availYes                    -18.632598   1.6325976\n",
       "AirBagsDriver only:Man.trans.availYes -23.319082   0.6431563\n",
       "AirBagsNone:Man.trans.availYes        -25.059564   1.0018719"
      ]
     },
     "metadata": {},
     "output_type": "display_data"
    }
   ],
   "source": [
    "carStuff<-(aov(Length ~ AirBags*Man.trans.avail, data=cars1))\n",
    "summary(carStuff)\n",
    "confint(carStuff)"
   ]
  },
  {
   "cell_type": "markdown",
   "id": "fcf64873-81de-47be-9fab-46a53ae4faea",
   "metadata": {},
   "source": [
    "The main effects of the fitted two-way ANOVA show that the main effects (Air Bags and Transmission availability) are very significant meaning that these two groups are statistically different from each other when it comes to length. The interaction of these two variables is above .05 and is not statistically significant. Although, all of the confidence intervals for this model contain zero, meaning that the results the results differences in the lengths of cars in these groups is not significant. "
   ]
  }
 ],
 "metadata": {
  "kernelspec": {
   "display_name": "R",
   "language": "R",
   "name": "ir"
  },
  "language_info": {
   "codemirror_mode": "r",
   "file_extension": ".r",
   "mimetype": "text/x-r-source",
   "name": "R",
   "pygments_lexer": "r",
   "version": "3.6.1"
  }
 },
 "nbformat": 4,
 "nbformat_minor": 5
}
